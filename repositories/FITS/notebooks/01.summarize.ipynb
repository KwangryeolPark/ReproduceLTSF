{
 "cells": [
  {
   "cell_type": "code",
   "execution_count": 1,
   "id": "fc4e247c",
   "metadata": {
    "execution": {
     "iopub.execute_input": "2025-07-17T03:02:28.201139Z",
     "iopub.status.busy": "2025-07-17T03:02:28.200768Z",
     "iopub.status.idle": "2025-07-17T03:02:28.545912Z",
     "shell.execute_reply": "2025-07-17T03:02:28.544885Z"
    }
   },
   "outputs": [],
   "source": [
    "import os\n",
    "import yaml\n",
    "import pandas as pd"
   ]
  },
  {
   "cell_type": "code",
   "execution_count": 2,
   "id": "fba3faa7",
   "metadata": {
    "execution": {
     "iopub.execute_input": "2025-07-17T03:02:28.549744Z",
     "iopub.status.busy": "2025-07-17T03:02:28.549350Z",
     "iopub.status.idle": "2025-07-17T03:02:28.554280Z",
     "shell.execute_reply": "2025-07-17T03:02:28.553290Z"
    }
   },
   "outputs": [],
   "source": [
    "__dataset__ = [\n",
    "    'ETTh1',\n",
    "    'ETTh2',\n",
    "    'ETTm1',\n",
    "    'ETTm2',\n",
    "    'ECL',\n",
    "    'Weather',\n",
    "    'Traffic',\n",
    "    'Exchange',\n",
    "    'national_illness'\n",
    "]"
   ]
  },
  {
   "cell_type": "code",
   "execution_count": 3,
   "id": "e0266bc8",
   "metadata": {
    "execution": {
     "iopub.execute_input": "2025-07-17T03:02:28.557366Z",
     "iopub.status.busy": "2025-07-17T03:02:28.556684Z",
     "iopub.status.idle": "2025-07-17T03:02:28.564795Z",
     "shell.execute_reply": "2025-07-17T03:02:28.563841Z"
    }
   },
   "outputs": [],
   "source": [
    "def parse_dataset(configs, key):\n",
    "    data = configs['data']\n",
    "    data_path = configs['data_path']\n",
    "    model_id = configs['model_id']\n",
    "    \n",
    "    dataset = []\n",
    "    for ds in __dataset__:\n",
    "        if ds in data_path:\n",
    "            if 'national_illness' in ds:\n",
    "                dataset.append('ILI')\n",
    "            else:\n",
    "                dataset.append(ds.replace('.csv', '').replace('.pkl', '').replace('.npy', ''))\n",
    "        if ds in model_id:\n",
    "            dataset.append(ds.split('_')[0])\n",
    "        if ds in data:\n",
    "            dataset.append(ds)\n",
    "\n",
    "    dataset = list(set(dataset))  # Remove duplicates    \n",
    "    \n",
    "    if len(dataset) > 1:\n",
    "        raise ValueError(f\"Multiple datasets found in configs: {dataset}\")\n",
    "    if len(dataset) == 1:\n",
    "        return dataset[0]\n",
    "    raise ValueError(f\"Dataset not found in configs: {configs}\")"
   ]
  },
  {
   "cell_type": "code",
   "execution_count": 4,
   "id": "d003b280",
   "metadata": {
    "execution": {
     "iopub.execute_input": "2025-07-17T03:02:28.568064Z",
     "iopub.status.busy": "2025-07-17T03:02:28.567438Z",
     "iopub.status.idle": "2025-07-17T03:02:29.216877Z",
     "shell.execute_reply": "2025-07-17T03:02:29.215472Z"
    }
   },
   "outputs": [
    {
     "name": "stdout",
     "output_type": "stream",
     "text": [
      "Metrics saved to 01.metrics.xlsx\n"
     ]
    }
   ],
   "source": [
    "root_path = '../results'\n",
    "\n",
    "metrics = {}\n",
    "\n",
    "for folders in os.listdir(root_path):\n",
    "    if not os.path.isdir(os.path.join(root_path, folders)):\n",
    "        continue\n",
    "    args = os.path.join(root_path, folders, 'args.yaml')\n",
    "    assert os.path.exists(args), f\"File {args} does not exist.\"\n",
    "    \n",
    "    exp = folders.split('Exp')[-1].replace('_', '')\n",
    "    exp = int(exp)\n",
    "    \n",
    "    with open(args, 'r') as f:\n",
    "        configs = yaml.safe_load(f)\n",
    "    \n",
    "    metric_file = os.path.join(root_path, folders, 'metrics.csv')\n",
    "    metric_file = pd.read_csv(metric_file)\n",
    "    \n",
    "    dataset = parse_dataset(configs, __dataset__)\n",
    "    pred_len = configs['pred_len']\n",
    "    seq_len = configs['seq_len']\n",
    "    model = configs['model']\n",
    "    mse = metric_file['mse'].values[0]\n",
    "    mae = metric_file['mae'].values[0]\n",
    "    rmse = metric_file['rmse'].values[0]\n",
    "    mape = metric_file['mape'].values[0]\n",
    "    if dataset not in metrics:\n",
    "        metrics[dataset] = {}\n",
    "    \n",
    "    key = (\n",
    "        model,\n",
    "        pred_len,\n",
    "        seq_len,\n",
    "    )\n",
    "    if dataset not in metrics:\n",
    "        metrics[dataset] = {}\n",
    "        \n",
    "    if key not in metrics[dataset]:\n",
    "        metrics[dataset][key] = {\n",
    "            'mse': [mse],\n",
    "            'mae': [mae],\n",
    "            'rmse': [rmse],\n",
    "            'mape': [mape],\n",
    "            'num_exp': [exp],\n",
    "        }\n",
    "    else:\n",
    "        metrics[dataset][key]['mse'].append(mse)\n",
    "        metrics[dataset][key]['mae'].append(mae)\n",
    "        metrics[dataset][key]['rmse'].append(rmse)\n",
    "        metrics[dataset][key]['mape'].append(mape)\n",
    "        metrics[dataset][key]['num_exp'].append(exp)\n",
    "\n",
    "reduce_keys = [\n",
    "    'mse',\n",
    "    'mae',\n",
    "    'rmse',\n",
    "    'mape',\n",
    "    'num_exp',\n",
    "]\n",
    "\n",
    "for dataset in metrics:\n",
    "    for key in metrics[dataset]:\n",
    "        for reduce_key in reduce_keys:\n",
    "            if reduce_key == 'num_exp':\n",
    "                mean = int(len(metrics[dataset][key][reduce_key]))\n",
    "            else:\n",
    "                mean = sum(metrics[dataset][key][reduce_key]) / len(metrics[dataset][key][reduce_key])\n",
    "            metrics[dataset][key][f'{reduce_key}'] = f'{mean:.3f}'\n",
    "            # metrics[dataset][key][reduce_key] = mean\n",
    "\n",
    "save_path = '01.metrics.xlsx'\n",
    "\n",
    "with pd.ExcelWriter(save_path) as writer:\n",
    "    for dataset in sorted(metrics):\n",
    "        for key in metrics[dataset]:\n",
    "            df = pd.DataFrame.from_dict(metrics[dataset], orient='index')\n",
    "            df = df.reset_index()\n",
    "            # df.columns = ['model', 'pred_len', 'decompose', 'depth', 'embed_norm', 'use_energy', 'mse', 'mae', 'rmse', 'mape', 'exp'] + [f'{reduce_key}-str' for reduce_key in reduce_keys]\n",
    "            df.columns = ['model', 'pred_len', 'seq_len'] + [f'{reduce_key}-str' for reduce_key in reduce_keys]\n",
    "\n",
    "            df = df.sort_values(by=['model', 'pred_len', 'seq_len'])\n",
    "            df = df.reset_index(drop=True)\n",
    "            df.to_excel(writer, sheet_name=f'{dataset}', index=False)\n",
    "\n",
    "print(f\"Metrics saved to {save_path}\")"
   ]
  }
 ],
 "metadata": {
  "kernelspec": {
   "display_name": "venv",
   "language": "python",
   "name": "python3"
  },
  "language_info": {
   "codemirror_mode": {
    "name": "ipython",
    "version": 3
   },
   "file_extension": ".py",
   "mimetype": "text/x-python",
   "name": "python",
   "nbconvert_exporter": "python",
   "pygments_lexer": "ipython3",
   "version": "3.10.13"
  }
 },
 "nbformat": 4,
 "nbformat_minor": 5
}
