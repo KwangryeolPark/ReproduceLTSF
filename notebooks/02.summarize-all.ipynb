{
 "cells": [
  {
   "cell_type": "code",
   "execution_count": null,
   "id": "adc867a6",
   "metadata": {},
   "outputs": [],
   "source": [
    "import os\n",
    "import pandas as pd"
   ]
  },
  {
   "cell_type": "code",
   "execution_count": null,
   "id": "30b05437",
   "metadata": {},
   "outputs": [
    {
     "name": "stdout",
     "output_type": "stream",
     "text": [
      "Processing ../repositories/FITS/notebooks/01.summarize.ipynb\n"
     ]
    },
    {
     "name": "stderr",
     "output_type": "stream",
     "text": [
      "[NbConvertApp] Converting notebook 01.summarize.ipynb to notebook\n"
     ]
    }
   ],
   "source": [
    "repository_path = '../repositories'\n",
    "for root, dirs, files in os.walk(repository_path):\n",
    "    for file in files:\n",
    "        if '01.summarize.ipynb' in file:\n",
    "            file_path = os.path.join(root, file)\n",
    "            print(f'Processing {file_path}')\n",
    "            os.system(\n",
    "                f'cd {os.path.dirname(file_path)} && jupyter nbconvert --to notebook --execute --inplace {file}'\n",
    "            )"
   ]
  },
  {
   "cell_type": "code",
   "execution_count": null,
   "id": "6c5aa4cc",
   "metadata": {},
   "outputs": [],
   "source": [
    "\n",
    "if not os.path.exists(repository_path):\n",
    "    raise FileNotFoundError(f'This is not parent directory of {repository_path}. Please run this script in the parent directory of {repository_path}.')\n",
    "\n",
    "metrics = {}\n",
    "for root, dirs, files in os.walk(repository_path):\n",
    "    for file in files:\n",
    "        if file == '01.metrics.xlsx' and 'notebooks' in root:\n",
    "            file_path = os.path.join(root, file)\n",
    "            model = os.path.basename(os.path.dirname(root))\n",
    "            model_metrics = {} # {sheet_name: {metric_name: metric_value}}\n",
    "            df = pd.read_excel(file_path, sheet_name=None)\n",
    "            for sheet_name, data in df.items():\n",
    "                if sheet_name not in model_metrics:\n",
    "                    model_metrics[sheet_name] = {}\n",
    "                for col in data.columns:\n",
    "                    if col not in model_metrics[sheet_name]:\n",
    "                        model_metrics[sheet_name][col] = []\n",
    "                    model_metrics[sheet_name][col].extend(data[col].tolist())\n",
    "            for sheet_name, metrics_data in model_metrics.items():\n",
    "                if sheet_name not in metrics:\n",
    "                    metrics[sheet_name] = {}\n",
    "                for metric_name, metric_values in metrics_data.items():\n",
    "                    if metric_name not in metrics[sheet_name]:\n",
    "                        metrics[sheet_name][metric_name] = []\n",
    "                    if 'str' in metric_name:\n",
    "                        metric_values = [str(v) for v in metric_values]\n",
    "                    metrics[sheet_name][metric_name].extend(metric_values)\n",
    "                    "
   ]
  },
  {
   "cell_type": "code",
   "execution_count": null,
   "id": "1616a330",
   "metadata": {},
   "outputs": [],
   "source": [
    "with pd.ExcelWriter('02.metrics.xlsx') as writer:\n",
    "    for sheet_name, metrics_data in metrics.items():\n",
    "        df = pd.DataFrame.from_dict(metrics_data, orient='index')\n",
    "        df = df.transpose()\n",
    "        df = df.reset_index()\n",
    "        df = df.sort_values(by=['pred_len', 'mse-str', 'seq_len'], ascending=[True, True, True])\n",
    "        \n",
    "        df.to_excel(writer, sheet_name=sheet_name, index=False)"
   ]
  }
 ],
 "metadata": {
  "kernelspec": {
   "display_name": "venv",
   "language": "python",
   "name": "python3"
  },
  "language_info": {
   "codemirror_mode": {
    "name": "ipython",
    "version": 3
   },
   "file_extension": ".py",
   "mimetype": "text/x-python",
   "name": "python",
   "nbconvert_exporter": "python",
   "pygments_lexer": "ipython3",
   "version": "3.10.13"
  }
 },
 "nbformat": 4,
 "nbformat_minor": 5
}
